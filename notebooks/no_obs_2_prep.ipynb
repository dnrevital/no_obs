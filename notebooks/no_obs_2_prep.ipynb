{
 "cells": [
  {
   "cell_type": "markdown",
   "metadata": {},
   "source": [
    "## Imports"
   ]
  },
  {
   "cell_type": "code",
   "execution_count": 6,
   "metadata": {},
   "outputs": [],
   "source": [
    "import cv2\n",
    "import os\n",
    "import numpy as np\n",
    "from matplotlib import pyplot as plt"
   ]
  },
  {
   "cell_type": "markdown",
   "metadata": {},
   "source": [
    "## Load Images Utility"
   ]
  },
  {
   "cell_type": "code",
   "execution_count": 7,
   "metadata": {},
   "outputs": [],
   "source": [
    "def load_images_from_folder(folder):\n",
    "    imnames = []\n",
    "    images = []\n",
    "    for imname in os.listdir(folder):\n",
    "        imrgb = cv2.imread(os.path.join(folder,imname))\n",
    "        im = cv2.cvtColor(imrgb, cv2.COLOR_BGR2GRAY)        \n",
    "        if im is not None:\n",
    "            imnames.append(imname)\n",
    "            images.append(im)\n",
    "    return imnames, images"
   ]
  },
  {
   "cell_type": "markdown",
   "metadata": {},
   "source": [
    "## Load & Process Loop"
   ]
  },
  {
   "cell_type": "code",
   "execution_count": 8,
   "metadata": {},
   "outputs": [],
   "source": [
    "obs_folder='../image_pairs/obstacle'\n",
    "obs_imnames, obs_images = load_images_from_folder(obs_folder)\n",
    "no_obs_folder='../image_pairs/not_obstacle'\n",
    "no_obs_imnames, no_obs_images = load_images_from_folder(no_obs_folder)"
   ]
  },
  {
   "cell_type": "code",
   "execution_count": 9,
   "metadata": {},
   "outputs": [
    {
     "data": {
      "text/plain": [
       "array([[40, 39, 39, ..., 37, 37, 37],\n",
       "       [39, 39, 40, ..., 36, 36, 36],\n",
       "       [40, 39, 39, ..., 36, 36, 36],\n",
       "       ...,\n",
       "       [35, 37, 34, ..., 48, 45, 54],\n",
       "       [40, 38, 35, ..., 54, 45, 49],\n",
       "       [38, 37, 32, ..., 47, 50, 59]], dtype=uint8)"
      ]
     },
     "execution_count": 9,
     "metadata": {},
     "output_type": "execute_result"
    }
   ],
   "source": [
    "obs_images[0]"
   ]
  },
  {
   "cell_type": "markdown",
   "metadata": {},
   "source": [
    "## Generate Diff Obstacle Images and Store Them"
   ]
  },
  {
   "cell_type": "code",
   "execution_count": 4,
   "metadata": {},
   "outputs": [],
   "source": [
    "diffs_folder = '../no_obs_diffs/obstacle/'\n",
    "\n",
    "for i, imname in enumerate(obs_imnames):\n",
    "    im = obs_images[i]\n",
    "    w = im.shape[1]\n",
    "    im1 = im[:,:w//2]\n",
    "    im2 = im[:,w//2:]\n",
    "    plain = cv2.subtract(im2, im1)\n",
    "    cv2.imwrite(diffs_folder + imname, plain)"
   ]
  },
  {
   "cell_type": "markdown",
   "metadata": {},
   "source": [
    "## Generate Diff Non-Obstacle Images and Store Them"
   ]
  },
  {
   "cell_type": "code",
   "execution_count": 5,
   "metadata": {},
   "outputs": [],
   "source": [
    "diffs_folder = '../no_obs_diffs/no_obstacle/'\n",
    "\n",
    "for i, imname in enumerate(no_obs_imnames):\n",
    "    im = no_obs_images[i]\n",
    "    w = im.shape[1]\n",
    "    im1 = im[:,:w//2]\n",
    "    im2 = im[:,w//2:]\n",
    "    plain = cv2.subtract(im2, im1)\n",
    "    cv2.imwrite(diffs_folder + imname, plain)"
   ]
  },
  {
   "cell_type": "code",
   "execution_count": null,
   "metadata": {},
   "outputs": [],
   "source": []
  }
 ],
 "metadata": {
  "kernelspec": {
   "display_name": "Python 3",
   "language": "python",
   "name": "python3"
  },
  "language_info": {
   "codemirror_mode": {
    "name": "ipython",
    "version": 3
   },
   "file_extension": ".py",
   "mimetype": "text/x-python",
   "name": "python",
   "nbconvert_exporter": "python",
   "pygments_lexer": "ipython3",
   "version": "3.7.6"
  }
 },
 "nbformat": 4,
 "nbformat_minor": 4
}
