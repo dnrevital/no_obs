{
 "cells": [
  {
   "cell_type": "markdown",
   "metadata": {},
   "source": [
    "## Imports"
   ]
  },
  {
   "cell_type": "code",
   "execution_count": 1,
   "metadata": {},
   "outputs": [],
   "source": [
    "import cv2\n",
    "import os\n",
    "import numpy as np\n",
    "from matplotlib import pyplot as plt"
   ]
  },
  {
   "cell_type": "markdown",
   "metadata": {},
   "source": [
    "## Load Images Utility"
   ]
  },
  {
   "cell_type": "code",
   "execution_count": 2,
   "metadata": {},
   "outputs": [],
   "source": [
    "def load_images_from_folder(folder):\n",
    "    imnames = []\n",
    "    images = []\n",
    "    for imname in os.listdir(folder):\n",
    "        imrgb = cv2.imread(os.path.join(folder,imname))\n",
    "        im = cv2.cvtColor(imrgb, cv2.COLOR_BGR2GRAY)        \n",
    "        if im is not None:\n",
    "            imnames.append(imname)\n",
    "            images.append(im)\n",
    "    return imnames, images"
   ]
  },
  {
   "cell_type": "markdown",
   "metadata": {},
   "source": [
    "## Load & Process Loop"
   ]
  },
  {
   "cell_type": "code",
   "execution_count": 3,
   "metadata": {},
   "outputs": [],
   "source": [
    "obs_folder='/home/drevital/no_obs_dataset/obstacle'\n",
    "obs_imnames, obs_images = load_images_from_folder(obs_folder)\n",
    "no_obs_folder='/home/drevital/no_obs_dataset/not_obstacle'\n",
    "no_obs_imnames, no_obs_images = load_images_from_folder(no_obs_folder)"
   ]
  },
  {
   "cell_type": "code",
   "execution_count": 4,
   "metadata": {},
   "outputs": [
    {
     "data": {
      "text/plain": [
       "array([[127, 126, 131, ...,  27,   0,   1],\n",
       "       [126, 126, 130, ...,  18,   0,   0],\n",
       "       [126, 124, 128, ...,  23,   0,   1],\n",
       "       ...,\n",
       "       [207,   1,  24, ...,  67,  64,   0],\n",
       "       [221,   2,  20, ...,  69,  64,   0],\n",
       "       [230,   1,  18, ...,  59,   0,   0]], dtype=uint8)"
      ]
     },
     "execution_count": 4,
     "metadata": {},
     "output_type": "execute_result"
    }
   ],
   "source": [
    "obs_images[0]"
   ]
  },
  {
   "cell_type": "markdown",
   "metadata": {},
   "source": [
    "## Generate Diff Obstacle Images and Store Them"
   ]
  },
  {
   "cell_type": "code",
   "execution_count": 5,
   "metadata": {},
   "outputs": [],
   "source": [
    "diffs_folder = '/home/drevital/no_obs_dataset/no_obs_diffs/obstacle/'\n",
    "\n",
    "for i, imname in enumerate(obs_imnames):\n",
    "    im = obs_images[i]\n",
    "    w = im.shape[1]\n",
    "    im1 = im[:,:w//2]\n",
    "    im2 = im[:,w//2:]\n",
    "    plain = cv2.subtract(im2, im1)\n",
    "    cv2.imwrite(diffs_folder + imname, plain)"
   ]
  },
  {
   "cell_type": "code",
   "execution_count": 6,
   "metadata": {},
   "outputs": [
    {
     "data": {
      "text/plain": [
       "'/home/drevital/no_obs_dataset/no_obs_diffs/obstacle/'"
      ]
     },
     "execution_count": 6,
     "metadata": {},
     "output_type": "execute_result"
    }
   ],
   "source": [
    "diffs_folder"
   ]
  },
  {
   "cell_type": "markdown",
   "metadata": {},
   "source": [
    "## Generate Diff Non-Obstacle Images and Store Them"
   ]
  },
  {
   "cell_type": "code",
   "execution_count": 7,
   "metadata": {},
   "outputs": [],
   "source": [
    "diffs_folder = '/home/drevital/no_obs_dataset/no_obs_diffs/no_obstacle/'\n",
    "\n",
    "for i, imname in enumerate(no_obs_imnames):\n",
    "    im = no_obs_images[i]\n",
    "    w = im.shape[1]\n",
    "    im1 = im[:,:w//2]\n",
    "    im2 = im[:,w//2:]\n",
    "    plain = cv2.subtract(im2, im1)\n",
    "    cv2.imwrite(diffs_folder + imname, plain)"
   ]
  },
  {
   "cell_type": "code",
   "execution_count": null,
   "metadata": {},
   "outputs": [],
   "source": []
  }
 ],
 "metadata": {
  "kernelspec": {
   "display_name": "Python 3",
   "language": "python",
   "name": "python3"
  },
  "language_info": {
   "codemirror_mode": {
    "name": "ipython",
    "version": 3
   },
   "file_extension": ".py",
   "mimetype": "text/x-python",
   "name": "python",
   "nbconvert_exporter": "python",
   "pygments_lexer": "ipython3",
   "version": "3.7.6"
  }
 },
 "nbformat": 4,
 "nbformat_minor": 4
}
