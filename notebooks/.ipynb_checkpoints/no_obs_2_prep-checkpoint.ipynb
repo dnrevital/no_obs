{
 "cells": [
  {
   "cell_type": "markdown",
   "metadata": {},
   "source": [
    "## Imports"
   ]
  },
  {
   "cell_type": "code",
   "execution_count": 1,
   "metadata": {},
   "outputs": [],
   "source": [
    "import cv2\n",
    "import os\n",
    "import numpy as np\n",
    "from matplotlib import pyplot as plt"
   ]
  },
  {
   "cell_type": "markdown",
   "metadata": {},
   "source": [
    "## Load Images Utility"
   ]
  },
  {
   "cell_type": "code",
   "execution_count": 2,
   "metadata": {},
   "outputs": [],
   "source": [
    "def load_images_from_folder(folder):\n",
    "    imnames = []\n",
    "    images = []\n",
    "    for imname in os.listdir(folder):\n",
    "        imrgb = cv2.imread(os.path.join(folder,imname))\n",
    "        im = cv2.cvtColor(imrgb, cv2.COLOR_BGR2GRAY)        \n",
    "        if im is not None:\n",
    "            imnames.append(imname)\n",
    "            images.append(im)\n",
    "    return imnames, images"
   ]
  },
  {
   "cell_type": "markdown",
   "metadata": {},
   "source": [
    "## Load & Process Loop"
   ]
  },
  {
   "cell_type": "code",
   "execution_count": 3,
   "metadata": {},
   "outputs": [],
   "source": [
    "no_obs_folder='../input/no-obstacle-test/test_image_pairs/not_obstacle'\n",
    "no_obs_imnames, no_obs_images = load_images_from_folder(no_obs_folder)\n",
    "obs_folder='../input/no-obstacle-test/test_image_pairs/obstacle'\n",
    "obs_imnames, obs_images = load_images_from_folder(obs_folder)"
   ]
  },
  {
   "cell_type": "markdown",
   "metadata": {},
   "source": [
    "## Separate Obstacle Images"
   ]
  },
  {
   "cell_type": "code",
   "execution_count": 4,
   "metadata": {},
   "outputs": [],
   "source": [
    "im = obs_images[0]\n",
    "w = im.shape[1]"
   ]
  },
  {
   "cell_type": "code",
   "execution_count": null,
   "metadata": {},
   "outputs": [],
   "source": [
    "im1 = im[:,:w//2]\n",
    "im2 = im[:,w//2:]"
   ]
  },
  {
   "cell_type": "code",
   "execution_count": null,
   "metadata": {},
   "outputs": [],
   "source": []
  }
 ],
 "metadata": {
  "kernelspec": {
   "display_name": "Python 3",
   "language": "python",
   "name": "python3"
  },
  "language_info": {
   "codemirror_mode": {
    "name": "ipython",
    "version": 3
   },
   "file_extension": ".py",
   "mimetype": "text/x-python",
   "name": "python",
   "nbconvert_exporter": "python",
   "pygments_lexer": "ipython3",
   "version": "3.7.6"
  }
 },
 "nbformat": 4,
 "nbformat_minor": 4
}
