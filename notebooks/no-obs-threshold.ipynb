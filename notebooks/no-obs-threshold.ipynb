{
 "cells": [
  {
   "cell_type": "code",
   "execution_count": 1,
   "metadata": {
    "_cell_guid": "b1076dfc-b9ad-4769-8c92-a6c4dae69d19",
    "_uuid": "8f2839f25d086af736a60e9eeb907d3b93b6e0e5",
    "execution": {
     "iopub.execute_input": "2020-11-26T14:58:06.591595Z",
     "iopub.status.busy": "2020-11-26T14:58:06.590800Z",
     "iopub.status.idle": "2020-11-26T14:58:14.356566Z",
     "shell.execute_reply": "2020-11-26T14:58:14.355760Z"
    },
    "papermill": {
     "duration": 7.786446,
     "end_time": "2020-11-26T14:58:14.356728",
     "exception": false,
     "start_time": "2020-11-26T14:58:06.570282",
     "status": "completed"
    },
    "tags": []
   },
   "outputs": [],
   "source": [
    "import tensorflow as tf\n",
    "from tensorflow.keras.preprocessing.image import ImageDataGenerator\n",
    "from tensorflow import keras\n",
    "from keras.models import Model\n",
    "\n",
    "import os\n",
    "import tempfile\n",
    "\n",
    "import matplotlib as mpl\n",
    "import matplotlib.pyplot as plt\n",
    "import numpy as np\n",
    "import pandas as pd\n",
    "import seaborn as sns\n",
    "\n",
    "import sklearn\n",
    "from sklearn.metrics import confusion_matrix\n",
    "from sklearn.model_selection import train_test_split\n",
    "from sklearn.preprocessing import StandardScaler"
   ]
  },
  {
   "cell_type": "code",
   "execution_count": 2,
   "metadata": {
    "_cell_guid": "79c7e3d0-c299-4dcb-8224-4455121ee9b0",
    "_uuid": "d629ff2d2480ee46fbb7e2d37f6b5fab8052498a",
    "execution": {
     "iopub.execute_input": "2020-11-26T14:58:14.384062Z",
     "iopub.status.busy": "2020-11-26T14:58:14.383183Z",
     "iopub.status.idle": "2020-11-26T14:58:16.438012Z",
     "shell.execute_reply": "2020-11-26T14:58:16.437337Z"
    },
    "papermill": {
     "duration": 2.070279,
     "end_time": "2020-11-26T14:58:16.438158",
     "exception": false,
     "start_time": "2020-11-26T14:58:14.367879",
     "status": "completed"
    },
    "tags": []
   },
   "outputs": [],
   "source": [
    "model = tf.keras.models.load_model('../input/no-obs-2/no_obs')"
   ]
  },
  {
   "cell_type": "code",
   "execution_count": 3,
   "metadata": {
    "execution": {
     "iopub.execute_input": "2020-11-26T14:58:16.466202Z",
     "iopub.status.busy": "2020-11-26T14:58:16.465144Z",
     "iopub.status.idle": "2020-11-26T14:58:16.468266Z",
     "shell.execute_reply": "2020-11-26T14:58:16.468845Z"
    },
    "papermill": {
     "duration": 0.019965,
     "end_time": "2020-11-26T14:58:16.469019",
     "exception": false,
     "start_time": "2020-11-26T14:58:16.449054",
     "status": "completed"
    },
    "tags": []
   },
   "outputs": [],
   "source": [
    "img_height, img_width = 200, 200\n",
    "data_dir = '../input/no-obs-diffs/no_obs_diffs'\n",
    "batch_size = 32"
   ]
  },
  {
   "cell_type": "code",
   "execution_count": 4,
   "metadata": {
    "execution": {
     "iopub.execute_input": "2020-11-26T14:58:16.499554Z",
     "iopub.status.busy": "2020-11-26T14:58:16.498513Z",
     "iopub.status.idle": "2020-11-26T14:58:19.531216Z",
     "shell.execute_reply": "2020-11-26T14:58:19.530298Z"
    },
    "papermill": {
     "duration": 3.051445,
     "end_time": "2020-11-26T14:58:19.531365",
     "exception": false,
     "start_time": "2020-11-26T14:58:16.479920",
     "status": "completed"
    },
    "tags": []
   },
   "outputs": [
    {
     "name": "stdout",
     "output_type": "stream",
     "text": [
      "Found 5338 images belonging to 2 classes.\n"
     ]
    }
   ],
   "source": [
    "datagen = ImageDataGenerator(\n",
    "    validation_split=0.3,\n",
    "    rescale=1. / 255,\n",
    "    shear_range=0.2,\n",
    "    zoom_range=0.2,\n",
    "    horizontal_flip=True)\n",
    "\n",
    "val_generator = datagen.flow_from_directory(\n",
    "    data_dir,\n",
    "    target_size=(img_width, img_height),\n",
    "    color_mode='grayscale',\n",
    "    batch_size=batch_size,\n",
    "    shuffle=False,\n",
    "    class_mode='binary',\n",
    "    subset='validation')"
   ]
  },
  {
   "cell_type": "code",
   "execution_count": 5,
   "metadata": {
    "execution": {
     "iopub.execute_input": "2020-11-26T14:58:19.561264Z",
     "iopub.status.busy": "2020-11-26T14:58:19.560057Z",
     "iopub.status.idle": "2020-11-26T14:58:19.563882Z",
     "shell.execute_reply": "2020-11-26T14:58:19.563109Z"
    },
    "papermill": {
     "duration": 0.020404,
     "end_time": "2020-11-26T14:58:19.564011",
     "exception": false,
     "start_time": "2020-11-26T14:58:19.543607",
     "status": "completed"
    },
    "tags": []
   },
   "outputs": [],
   "source": [
    "n_val_images = 5338"
   ]
  },
  {
   "cell_type": "code",
   "execution_count": 6,
   "metadata": {
    "execution": {
     "iopub.execute_input": "2020-11-26T14:58:19.599840Z",
     "iopub.status.busy": "2020-11-26T14:58:19.599031Z",
     "iopub.status.idle": "2020-11-26T14:58:19.602656Z",
     "shell.execute_reply": "2020-11-26T14:58:19.601890Z"
    },
    "papermill": {
     "duration": 0.026216,
     "end_time": "2020-11-26T14:58:19.602789",
     "exception": false,
     "start_time": "2020-11-26T14:58:19.576573",
     "status": "completed"
    },
    "tags": []
   },
   "outputs": [],
   "source": [
    "def plot_cm(labels, predictions, p=0.5):\n",
    "  cm = confusion_matrix(labels, predictions > p)\n",
    "  plt.figure(figsize=(5,5))\n",
    "  sns.heatmap(cm, annot=True, fmt=\"d\")\n",
    "  plt.title('Confusion matrix @{:.2f}'.format(p))\n",
    "  plt.ylabel('Actual label')\n",
    "  plt.xlabel('Predicted label')\n",
    "\n",
    "  print('No Obstacles Detected (True Negatives): ', cm[0][0])\n",
    "  print('No Obstacles Incorrectly Detected (False Positives): ', cm[0][1])\n",
    "  print('Obstacles Missed (False Negatives): ', cm[1][0])\n",
    "  print('Obstacles Detected (True Positives): ', cm[1][1])\n",
    "  print('Total Obstacles: ', np.sum(cm[1]))"
   ]
  },
  {
   "cell_type": "code",
   "execution_count": 7,
   "metadata": {
    "execution": {
     "iopub.execute_input": "2020-11-26T14:58:19.632519Z",
     "iopub.status.busy": "2020-11-26T14:58:19.631648Z",
     "iopub.status.idle": "2020-11-26T14:59:15.835584Z",
     "shell.execute_reply": "2020-11-26T14:59:15.834526Z"
    },
    "papermill": {
     "duration": 56.221142,
     "end_time": "2020-11-26T14:59:15.835830",
     "exception": false,
     "start_time": "2020-11-26T14:58:19.614688",
     "status": "completed"
    },
    "tags": []
   },
   "outputs": [
    {
     "name": "stdout",
     "output_type": "stream",
     "text": [
      "167/167 [==============================] - 54s 323ms/step - loss: 1.0211 - tp: 2078.0000 - fp: 353.0000 - tn: 2438.0000 - fn: 469.0000 - accuracy: 0.8460 - precision: 0.8548 - recall: 0.8159 - auc: 0.9393\n"
     ]
    }
   ],
   "source": [
    "metrics = model.evaluate_generator(\n",
    "    val_generator,\n",
    "    verbose=1)"
   ]
  },
  {
   "cell_type": "code",
   "execution_count": 8,
   "metadata": {
    "execution": {
     "iopub.execute_input": "2020-11-26T14:59:16.005517Z",
     "iopub.status.busy": "2020-11-26T14:59:16.004705Z",
     "iopub.status.idle": "2020-11-26T14:59:16.009118Z",
     "shell.execute_reply": "2020-11-26T14:59:16.008029Z"
    },
    "papermill": {
     "duration": 0.093412,
     "end_time": "2020-11-26T14:59:16.009325",
     "exception": false,
     "start_time": "2020-11-26T14:59:15.915913",
     "status": "completed"
    },
    "tags": []
   },
   "outputs": [
    {
     "name": "stdout",
     "output_type": "stream",
     "text": [
      "loss :  1.0210968255996704\n",
      "tp :  2078.0\n",
      "fp :  353.0\n",
      "tn :  2438.0\n",
      "fn :  469.0\n",
      "accuracy :  0.8460097312927246\n",
      "precision :  0.8547922372817993\n",
      "recall :  0.8158618211746216\n",
      "auc :  0.9393314719200134\n",
      "\n"
     ]
    }
   ],
   "source": [
    "for name, value in zip(model.metrics_names, metrics):\n",
    "  print(name, ': ', value)\n",
    "print()\n"
   ]
  },
  {
   "cell_type": "code",
   "execution_count": 9,
   "metadata": {
    "execution": {
     "iopub.execute_input": "2020-11-26T14:59:16.179218Z",
     "iopub.status.busy": "2020-11-26T14:59:16.178367Z",
     "iopub.status.idle": "2020-11-26T14:59:16.182055Z",
     "shell.execute_reply": "2020-11-26T14:59:16.181197Z"
    },
    "papermill": {
     "duration": 0.092077,
     "end_time": "2020-11-26T14:59:16.182205",
     "exception": false,
     "start_time": "2020-11-26T14:59:16.090128",
     "status": "completed"
    },
    "tags": []
   },
   "outputs": [],
   "source": [
    "labels = np.array([0] * (n_val_images//2) + [1] * (n_val_images//2))"
   ]
  },
  {
   "cell_type": "code",
   "execution_count": 10,
   "metadata": {
    "execution": {
     "iopub.execute_input": "2020-11-26T14:59:16.349423Z",
     "iopub.status.busy": "2020-11-26T14:59:16.348563Z",
     "iopub.status.idle": "2020-11-26T15:00:05.131425Z",
     "shell.execute_reply": "2020-11-26T15:00:05.130700Z"
    },
    "papermill": {
     "duration": 48.869146,
     "end_time": "2020-11-26T15:00:05.131598",
     "exception": false,
     "start_time": "2020-11-26T14:59:16.262452",
     "status": "completed"
    },
    "tags": []
   },
   "outputs": [
    {
     "name": "stdout",
     "output_type": "stream",
     "text": [
      "167/167 [==============================] - 48s 288ms/step\n"
     ]
    }
   ],
   "source": [
    "predictions = model.predict_generator(val_generator, 167, verbose=1)"
   ]
  },
  {
   "cell_type": "code",
   "execution_count": 11,
   "metadata": {
    "execution": {
     "iopub.execute_input": "2020-11-26T15:00:05.435283Z",
     "iopub.status.busy": "2020-11-26T15:00:05.434130Z",
     "iopub.status.idle": "2020-11-26T15:00:05.438256Z",
     "shell.execute_reply": "2020-11-26T15:00:05.438865Z"
    },
    "papermill": {
     "duration": 0.160972,
     "end_time": "2020-11-26T15:00:05.439024",
     "exception": false,
     "start_time": "2020-11-26T15:00:05.278052",
     "status": "completed"
    },
    "tags": []
   },
   "outputs": [
    {
     "data": {
      "text/plain": [
       "array([[0.08250988],\n",
       "       [0.03426743],\n",
       "       [0.11578953],\n",
       "       ...,\n",
       "       [0.44636533],\n",
       "       [0.99671745],\n",
       "       [0.9518802 ]], dtype=float32)"
      ]
     },
     "execution_count": 11,
     "metadata": {},
     "output_type": "execute_result"
    }
   ],
   "source": [
    "predictions"
   ]
  },
  {
   "cell_type": "code",
   "execution_count": 12,
   "metadata": {
    "execution": {
     "iopub.execute_input": "2020-11-26T15:00:05.739946Z",
     "iopub.status.busy": "2020-11-26T15:00:05.739162Z",
     "iopub.status.idle": "2020-11-26T15:00:06.462163Z",
     "shell.execute_reply": "2020-11-26T15:00:06.461399Z"
    },
    "papermill": {
     "duration": 0.876139,
     "end_time": "2020-11-26T15:00:06.462301",
     "exception": false,
     "start_time": "2020-11-26T15:00:05.586162",
     "status": "completed"
    },
    "tags": []
   },
   "outputs": [
    {
     "name": "stdout",
     "output_type": "stream",
     "text": [
      "No Obstacles Detected (True Negatives):  2321\n",
      "No Obstacles Incorrectly Detected (False Positives):  348\n",
      "Obstacles Missed (False Negatives):  572\n",
      "Obstacles Detected (True Positives):  2097\n",
      "Total Obstacles:  2669\n",
      "No Obstacles Detected (True Negatives):  2204\n",
      "No Obstacles Incorrectly Detected (False Positives):  465\n",
      "Obstacles Missed (False Negatives):  357\n",
      "Obstacles Detected (True Positives):  2312\n",
      "Total Obstacles:  2669\n",
      "No Obstacles Detected (True Negatives):  2465\n",
      "No Obstacles Incorrectly Detected (False Positives):  204\n",
      "Obstacles Missed (False Negatives):  831\n",
      "Obstacles Detected (True Positives):  1838\n",
      "Total Obstacles:  2669\n"
     ]
    },
    {
     "data": {
      "image/png": "[encoded data removed]",
      "text/plain": [
       "<Figure size 360x360 with 2 Axes>"
      ]
     },
     "metadata": {
      "needs_background": "light"
     },
     "output_type": "display_data"
    },
    {
     "data": {
      "image/png": "[encoded data removed]",
      "text/plain": [
       "<Figure size 360x360 with 2 Axes>"
      ]
     },
     "metadata": {
      "needs_background": "light"
     },
     "output_type": "display_data"
    },
    {
     "data": {
      "image/png": "[encoded data removed]",
      "text/plain": [
       "<Figure size 360x360 with 2 Axes>"
      ]
     },
     "metadata": {
      "needs_background": "light"
     },
     "output_type": "display_data"
    }
   ],
   "source": [
    "plot_cm(labels, predictions) # Default: threshold = 0.5\n",
    "plot_cm(labels, predictions, p=0.25)\n",
    "plot_cm(labels, predictions, p=0.75)"
   ]
  }
 ],
 "metadata": {
  "kernelspec": {
   "display_name": "Python 3",
   "language": "python",
   "name": "python3"
  },
  "language_info": {
   "codemirror_mode": {
    "name": "ipython",
    "version": 3
   },
   "file_extension": ".py",
   "mimetype": "text/x-python",
   "name": "python",
   "nbconvert_exporter": "python",
   "pygments_lexer": "ipython3",
   "version": "3.7.6"
  },
  "papermill": {
   "duration": 125.375231,
   "end_time": "2020-11-26T15:00:06.722605",
   "environment_variables": {},
   "exception": null,
   "input_path": "__notebook__.ipynb",
   "output_path": "__notebook__.ipynb",
   "parameters": {},
   "start_time": "2020-11-26T14:58:01.347374",
   "version": "2.1.0"
  }
 },
 "nbformat": 4,
 "nbformat_minor": 4
}
